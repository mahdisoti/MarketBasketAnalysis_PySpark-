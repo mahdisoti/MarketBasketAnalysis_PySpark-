{
  "nbformat": 4,
  "nbformat_minor": 0,
  "metadata": {
    "colab": {
      "provenance": [],
      "collapsed_sections": [],
      "include_colab_link": true
    },
    "kernelspec": {
      "name": "python3",
      "display_name": "Python 3"
    },
    "language_info": {
      "name": "python"
    }
  },
  "cells": [
    {
      "cell_type": "markdown",
      "metadata": {
        "id": "view-in-github",
        "colab_type": "text"
      },
      "source": [
        "<a href=\"https://colab.research.google.com/github/mahdisoti/MarketBasketAnalysis_PySpark-/blob/main/MBA_Project_mahdi.ipynb\" target=\"_parent\"><img src=\"https://colab.research.google.com/assets/colab-badge.svg\" alt=\"Open In Colab\"/></a>"
      ]
    },
    {
      "cell_type": "markdown",
      "source": [
        "## Importing the dataset W/Kaggle API and configuring Spark"
      ],
      "metadata": {
        "id": "iDrpUTHxBlil"
      }
    },
    {
      "cell_type": "code",
      "source": [
        "# Java8\n",
        "!apt-get install openjdk-8-jdk-headless -qq > /dev/null"
      ],
      "metadata": {
        "id": "JYYr7Ef0QNLX"
      },
      "execution_count": null,
      "outputs": []
    },
    {
      "cell_type": "code",
      "source": [
        "# download spark3.0.2\n",
        "!wget -q http://apache.osuosl.org/spark/spark-3.0.3/spark-3.0.3-bin-hadoop3.2.tgz"
      ],
      "metadata": {
        "id": "fy3DCyP3QSWI"
      },
      "execution_count": null,
      "outputs": []
    },
    {
      "cell_type": "code",
      "source": [
        "# unzip it\n",
        "!tar xf spark-3.0.3-bin-hadoop3.2.tgz"
      ],
      "metadata": {
        "colab": {
          "base_uri": "https://localhost:8080/"
        },
        "id": "KKOGtjMaQT2o",
        "outputId": "86463ea4-839a-4f6c-917a-8fc2d5960a83"
      },
      "execution_count": null,
      "outputs": [
        {
          "output_type": "stream",
          "name": "stdout",
          "text": [
            "tar: spark-3.0.3-bin-hadoop3.2.tgz: Cannot open: No such file or directory\n",
            "tar: Error is not recoverable: exiting now\n"
          ]
        }
      ]
    },
    {
      "cell_type": "code",
      "source": [
        "# install findspark \n",
        "!pip install -q findspark"
      ],
      "metadata": {
        "id": "KJPOzOVwQVg_"
      },
      "execution_count": null,
      "outputs": []
    },
    {
      "cell_type": "code",
      "source": [
        "!pip install pyspark"
      ],
      "metadata": {
        "colab": {
          "base_uri": "https://localhost:8080/"
        },
        "id": "gaavXWl0QXro",
        "outputId": "788665c1-2e6b-444a-c9a1-cf78d50f4f35"
      },
      "execution_count": null,
      "outputs": [
        {
          "output_type": "stream",
          "name": "stdout",
          "text": [
            "Looking in indexes: https://pypi.org/simple, https://us-python.pkg.dev/colab-wheels/public/simple/\n",
            "Collecting pyspark\n",
            "  Downloading pyspark-3.3.0.tar.gz (281.3 MB)\n",
            "\u001b[K     |████████████████████████████████| 281.3 MB 31 kB/s \n",
            "\u001b[?25hCollecting py4j==0.10.9.5\n",
            "  Downloading py4j-0.10.9.5-py2.py3-none-any.whl (199 kB)\n",
            "\u001b[K     |████████████████████████████████| 199 kB 42.2 MB/s \n",
            "\u001b[?25hBuilding wheels for collected packages: pyspark\n",
            "  Building wheel for pyspark (setup.py) ... \u001b[?25l\u001b[?25hdone\n",
            "  Created wheel for pyspark: filename=pyspark-3.3.0-py2.py3-none-any.whl size=281764026 sha256=2a55f6b005a844737ce09a5f38857c58c9e853f8f2536ffa016a9466e0246e0a\n",
            "  Stored in directory: /root/.cache/pip/wheels/7a/8e/1b/f73a52650d2e5f337708d9f6a1750d451a7349a867f928b885\n",
            "Successfully built pyspark\n",
            "Installing collected packages: py4j, pyspark\n",
            "Successfully installed py4j-0.10.9.5 pyspark-3.3.0\n"
          ]
        }
      ]
    },
    {
      "cell_type": "code",
      "source": [
        "#Downloading the dataset using the Kaggle API\n",
        "!pip install kaggle\n",
        "import os\n",
        "kaggle_api = {\"username\":\"mahdisoti\",\"key\":\"6370df14f277931646a0c6a3e06d54d0\"}\n",
        "os.environ['KAGGLE_USERNAME'] = kaggle_api['username']\n",
        "os.environ['KAGGLE_KEY'] = kaggle_api['key'] "
      ],
      "metadata": {
        "id": "27XVrVf3GBKJ",
        "colab": {
          "base_uri": "https://localhost:8080/"
        },
        "outputId": "215537d7-3cc7-4e39-aaf7-2f1255bccf39"
      },
      "execution_count": null,
      "outputs": [
        {
          "output_type": "stream",
          "name": "stdout",
          "text": [
            "Looking in indexes: https://pypi.org/simple, https://us-python.pkg.dev/colab-wheels/public/simple/\n",
            "Requirement already satisfied: kaggle in /usr/local/lib/python3.7/dist-packages (1.5.12)\n",
            "Requirement already satisfied: six>=1.10 in /usr/local/lib/python3.7/dist-packages (from kaggle) (1.15.0)\n",
            "Requirement already satisfied: python-slugify in /usr/local/lib/python3.7/dist-packages (from kaggle) (6.1.2)\n",
            "Requirement already satisfied: tqdm in /usr/local/lib/python3.7/dist-packages (from kaggle) (4.64.1)\n",
            "Requirement already satisfied: python-dateutil in /usr/local/lib/python3.7/dist-packages (from kaggle) (2.8.2)\n",
            "Requirement already satisfied: urllib3 in /usr/local/lib/python3.7/dist-packages (from kaggle) (1.24.3)\n",
            "Requirement already satisfied: requests in /usr/local/lib/python3.7/dist-packages (from kaggle) (2.23.0)\n",
            "Requirement already satisfied: certifi in /usr/local/lib/python3.7/dist-packages (from kaggle) (2022.6.15)\n",
            "Requirement already satisfied: text-unidecode>=1.3 in /usr/local/lib/python3.7/dist-packages (from python-slugify->kaggle) (1.3)\n",
            "Requirement already satisfied: chardet<4,>=3.0.2 in /usr/local/lib/python3.7/dist-packages (from requests->kaggle) (3.0.4)\n",
            "Requirement already satisfied: idna<3,>=2.5 in /usr/local/lib/python3.7/dist-packages (from requests->kaggle) (2.10)\n"
          ]
        }
      ]
    },
    {
      "cell_type": "code",
      "source": [
        "!kaggle datasets download -d bwandowando/ukraine-russian-crisis-twitter-dataset-1-2-m-rows"
      ],
      "metadata": {
        "id": "-eZqMSM0GBxd",
        "colab": {
          "base_uri": "https://localhost:8080/"
        },
        "outputId": "91e145d9-e6a4-4de7-cf53-816a0f492543"
      },
      "execution_count": null,
      "outputs": [
        {
          "output_type": "stream",
          "name": "stdout",
          "text": [
            "Downloading ukraine-russian-crisis-twitter-dataset-1-2-m-rows.zip to /content\n",
            "100% 11.9G/11.9G [01:21<00:00, 174MB/s]\n",
            "100% 11.9G/11.9G [01:21<00:00, 156MB/s]\n"
          ]
        }
      ]
    },
    {
      "cell_type": "code",
      "source": [
        "#Unzipping the dataset\n",
        "!unzip ukraine-russian-crisis-twitter-dataset-1-2-m-rows"
      ],
      "metadata": {
        "id": "iiu8dzuvHZ93",
        "colab": {
          "base_uri": "https://localhost:8080/"
        },
        "outputId": "501ec63e-b91e-4f8e-d2ae-ef45c3ae11ad"
      },
      "execution_count": null,
      "outputs": [
        {
          "output_type": "stream",
          "name": "stdout",
          "text": [
            "Archive:  ukraine-russian-crisis-twitter-dataset-1-2-m-rows.zip\n",
            "  inflating: 0819_UkraineCombinedTweetsDeduped.csv.gzip  \n",
            "  inflating: 0820_UkraineCombinedTweetsDeduped.csv.gzip  \n",
            "  inflating: 0821_UkraineCombinedTweetsDeduped.csv.gzip  \n",
            "  inflating: 0822_UkraineCombinedTweetsDeduped.csv.gzip  \n",
            "  inflating: 0823_UkraineCombinedTweetsDeduped.csv.gzip  \n",
            "  inflating: 0824_UkraineCombinedTweetsDeduped.csv.gzip  \n",
            "  inflating: 0825_UkraineCombinedTweetsDeduped.csv.gzip  \n",
            "  inflating: 0826_UkraineCombinedTweetsDeduped.csv.gzip  \n",
            "  inflating: 0827_UkraineCombinedTweetsDeduped.csv.gzip  \n",
            "  inflating: 0828_UkraineCombinedTweetsDeduped.csv.gzip  \n",
            "  inflating: 0829_UkraineCombinedTweetsDeduped.csv.gzip  \n",
            "  inflating: 0830_UkraineCombinedTweetsDeduped.csv.gzip  \n",
            "  inflating: 0831_UkraineCombinedTweetsDeduped.csv.gzip  \n",
            "  inflating: 0901_UkraineCombinedTweetsDeduped.csv.gzip  \n",
            "  inflating: 0902_UkraineCombinedTweetsDeduped.csv.gzip  \n",
            "  inflating: 0903_UkraineCombinedTweetsDeduped.csv.gzip  \n",
            "  inflating: 0904_UkraineCombinedTweetsDeduped.csv.gzip  \n",
            "  inflating: 0905_UkraineCombinedTweetsDeduped.csv.gzip  \n",
            "  inflating: 0906_UkraineCombinedTweetsDeduped.csv.gzip  \n",
            "  inflating: 0907_UkraineCombinedTweetsDeduped.csv.gzip  \n",
            "  inflating: 0908_UkraineCombinedTweetsDeduped.csv.gzip  \n",
            "  inflating: 0909_UkraineCombinedTweetsDeduped.csv.gzip  \n",
            "  inflating: 0910_UkraineCombinedTweetsDeduped.csv.gzip  \n",
            "  inflating: 0911_UkraineCombinedTweetsDeduped.csv.gzip  \n",
            "  inflating: 0912_UkraineCombinedTweetsDeduped.csv.gzip  \n",
            "  inflating: 0913_UkraineCombinedTweetsDeduped.csv.gzip  \n",
            "  inflating: 0914_UkraineCombinedTweetsDeduped.csv.gzip  \n",
            "  inflating: UkraineWar/UkraineWar/0401_UkraineCombinedTweetsDeduped.csv.gzip  \n",
            "  inflating: UkraineWar/UkraineWar/0402_UkraineCombinedTweetsDeduped.csv.gzip  \n",
            "  inflating: UkraineWar/UkraineWar/0403_UkraineCombinedTweetsDeduped.csv.gzip  \n",
            "  inflating: UkraineWar/UkraineWar/0404_UkraineCombinedTweetsDeduped.csv.gzip  \n",
            "  inflating: UkraineWar/UkraineWar/0405_UkraineCombinedTweetsDeduped.csv.gzip  \n",
            "  inflating: UkraineWar/UkraineWar/0406_UkraineCombinedTweetsDeduped.csv.gzip  \n",
            "  inflating: UkraineWar/UkraineWar/0407_UkraineCombinedTweetsDeduped.csv.gzip  \n",
            "  inflating: UkraineWar/UkraineWar/0408_UkraineCombinedTweetsDeduped.csv.gzip  \n",
            "  inflating: UkraineWar/UkraineWar/0409_UkraineCombinedTweetsDeduped.csv.gzip  \n",
            "  inflating: UkraineWar/UkraineWar/0410_UkraineCombinedTweetsDeduped.csv.gzip  \n",
            "  inflating: UkraineWar/UkraineWar/0411_UkraineCombinedTweetsDeduped.csv.gzip  \n",
            "  inflating: UkraineWar/UkraineWar/0412_UkraineCombinedTweetsDeduped.csv.gzip  \n",
            "  inflating: UkraineWar/UkraineWar/0413_UkraineCombinedTweetsDeduped.csv.gzip  \n",
            "  inflating: UkraineWar/UkraineWar/0414_UkraineCombinedTweetsDeduped.csv.gzip  \n",
            "  inflating: UkraineWar/UkraineWar/0415_UkraineCombinedTweetsDeduped.csv.gzip  \n",
            "  inflating: UkraineWar/UkraineWar/0416_UkraineCombinedTweetsDeduped.csv.gzip  \n",
            "  inflating: UkraineWar/UkraineWar/0417_UkraineCombinedTweetsDeduped.csv.gzip  \n",
            "  inflating: UkraineWar/UkraineWar/0418_UkraineCombinedTweetsDeduped.csv.gzip  \n",
            "  inflating: UkraineWar/UkraineWar/0419_UkraineCombinedTweetsDeduped.csv.gzip  \n",
            "  inflating: UkraineWar/UkraineWar/0420_UkraineCombinedTweetsDeduped.csv.gzip  \n",
            "  inflating: UkraineWar/UkraineWar/0421_UkraineCombinedTweetsDeduped.csv.gzip  \n",
            "  inflating: UkraineWar/UkraineWar/0422_UkraineCombinedTweetsDeduped.csv.gzip  \n",
            "  inflating: UkraineWar/UkraineWar/0423_UkraineCombinedTweetsDeduped.csv.gzip  \n",
            "  inflating: UkraineWar/UkraineWar/0424_UkraineCombinedTweetsDeduped.csv.gzip  \n",
            "  inflating: UkraineWar/UkraineWar/0425_UkraineCombinedTweetsDeduped.csv.gzip  \n",
            "  inflating: UkraineWar/UkraineWar/0426_UkraineCombinedTweetsDeduped.csv.gzip  \n",
            "  inflating: UkraineWar/UkraineWar/0427_UkraineCombinedTweetsDeduped.csv.gzip  \n",
            "  inflating: UkraineWar/UkraineWar/0428_UkraineCombinedTweetsDeduped.csv.gzip  \n",
            "  inflating: UkraineWar/UkraineWar/0429_UkraineCombinedTweetsDeduped.csv.gzip  \n",
            "  inflating: UkraineWar/UkraineWar/0430_UkraineCombinedTweetsDeduped.csv.gzip  \n",
            "  inflating: UkraineWar/UkraineWar/0501_UkraineCombinedTweetsDeduped.csv.gzip  \n",
            "  inflating: UkraineWar/UkraineWar/0502_UkraineCombinedTweetsDeduped.csv.gzip  \n",
            "  inflating: UkraineWar/UkraineWar/0503_UkraineCombinedTweetsDeduped.csv.gzip  \n",
            "  inflating: UkraineWar/UkraineWar/0504_UkraineCombinedTweetsDeduped.csv.gzip  \n",
            "  inflating: UkraineWar/UkraineWar/0505_to_0507_UkraineCombinedTweetsDeduped.csv.gzip  \n",
            "  inflating: UkraineWar/UkraineWar/0508_UkraineCombinedTweetsDeduped.csv.gzip  \n",
            "  inflating: UkraineWar/UkraineWar/0509_UkraineCombinedTweetsDeduped.csv.gzip  \n",
            "  inflating: UkraineWar/UkraineWar/0510_UkraineCombinedTweetsDeduped.csv.gzip  \n",
            "  inflating: UkraineWar/UkraineWar/0511_UkraineCombinedTweetsDeduped.csv.gzip  \n",
            "  inflating: UkraineWar/UkraineWar/0512_UkraineCombinedTweetsDeduped.csv.gzip  \n",
            "  inflating: UkraineWar/UkraineWar/0513_UkraineCombinedTweetsDeduped.csv.gzip  \n",
            "  inflating: UkraineWar/UkraineWar/0514_UkraineCombinedTweetsDeduped.csv.gzip  \n",
            "  inflating: UkraineWar/UkraineWar/0515_UkraineCombinedTweetsDeduped.csv.gzip  \n",
            "  inflating: UkraineWar/UkraineWar/0516_UkraineCombinedTweetsDeduped.csv.gzip  \n",
            "  inflating: UkraineWar/UkraineWar/0517_UkraineCombinedTweetsDeduped.csv.gzip  \n",
            "  inflating: UkraineWar/UkraineWar/0518_UkraineCombinedTweetsDeduped.csv.gzip  \n",
            "  inflating: UkraineWar/UkraineWar/0519_UkraineCombinedTweetsDeduped.csv.gzip  \n",
            "  inflating: UkraineWar/UkraineWar/0520_UkraineCombinedTweetsDeduped.csv.gzip  \n",
            "  inflating: UkraineWar/UkraineWar/0521_UkraineCombinedTweetsDeduped.csv.gzip  \n",
            "  inflating: UkraineWar/UkraineWar/0522_UkraineCombinedTweetsDeduped.csv.gzip  \n",
            "  inflating: UkraineWar/UkraineWar/0523_UkraineCombinedTweetsDeduped.csv.gzip  \n",
            "  inflating: UkraineWar/UkraineWar/0524_UkraineCombinedTweetsDeduped.csv.gzip  \n",
            "  inflating: UkraineWar/UkraineWar/0525_UkraineCombinedTweetsDeduped.csv.gzip  \n",
            "  inflating: UkraineWar/UkraineWar/0526_UkraineCombinedTweetsDeduped.csv.gzip  \n",
            "  inflating: UkraineWar/UkraineWar/0527_UkraineCombinedTweetsDeduped.csv.gzip  \n",
            "  inflating: UkraineWar/UkraineWar/0528_UkraineCombinedTweetsDeduped.csv.gzip  \n",
            "  inflating: UkraineWar/UkraineWar/0529_UkraineCombinedTweetsDeduped.csv.gzip  \n",
            "  inflating: UkraineWar/UkraineWar/0530_UkraineCombinedTweetsDeduped.csv.gzip  \n",
            "  inflating: UkraineWar/UkraineWar/0531_UkraineCombinedTweetsDeduped.csv.gzip  \n",
            "  inflating: UkraineWar/UkraineWar/0601_UkraineCombinedTweetsDeduped.csv.gzip  \n",
            "  inflating: UkraineWar/UkraineWar/0602_UkraineCombinedTweetsDeduped.csv.gzip  \n",
            "  inflating: UkraineWar/UkraineWar/0603_UkraineCombinedTweetsDeduped.csv.gzip  \n",
            "  inflating: UkraineWar/UkraineWar/0604_UkraineCombinedTweetsDeduped.csv.gzip  \n",
            "  inflating: UkraineWar/UkraineWar/0605_UkraineCombinedTweetsDeduped.csv.gzip  \n",
            "  inflating: UkraineWar/UkraineWar/0606_to_08_UkraineCombinedTweetsDeduped.csv.gzip  \n",
            "  inflating: UkraineWar/UkraineWar/0609_UkraineCombinedTweetsDeduped.csv.gzip  \n",
            "  inflating: UkraineWar/UkraineWar/0610_UkraineCombinedTweetsDeduped.csv.gzip  \n",
            "  inflating: UkraineWar/UkraineWar/0611_UkraineCombinedTweetsDeduped.csv.gzip  \n",
            "  inflating: UkraineWar/UkraineWar/0612_UkraineCombinedTweetsDeduped.csv.gzip  \n",
            "  inflating: UkraineWar/UkraineWar/0613_UkraineCombinedTweetsDeduped.csv.gzip  \n",
            "  inflating: UkraineWar/UkraineWar/0614_UkraineCombinedTweetsDeduped.csv.gzip  \n",
            "  inflating: UkraineWar/UkraineWar/0615_UkraineCombinedTweetsDeduped.csv.gzip  \n",
            "  inflating: UkraineWar/UkraineWar/0616_UkraineCombinedTweetsDeduped.csv.gzip  \n",
            "  inflating: UkraineWar/UkraineWar/0617_UkraineCombinedTweetsDeduped.csv.gzip  \n",
            "  inflating: UkraineWar/UkraineWar/0618_UkraineCombinedTweetsDeduped.csv.gzip  \n",
            "  inflating: UkraineWar/UkraineWar/0619_UkraineCombinedTweetsDeduped.csv.gzip  \n",
            "  inflating: UkraineWar/UkraineWar/0620_UkraineCombinedTweetsDeduped.csv.gzip  \n",
            "  inflating: UkraineWar/UkraineWar/0621_UkraineCombinedTweetsDeduped.csv.gzip  \n",
            "  inflating: UkraineWar/UkraineWar/0622_UkraineCombinedTweetsDeduped.csv.gzip  \n",
            "  inflating: UkraineWar/UkraineWar/0623_UkraineCombinedTweetsDeduped.csv.gzip  \n",
            "  inflating: UkraineWar/UkraineWar/0624_UkraineCombinedTweetsDeduped.csv.gzip  \n",
            "  inflating: UkraineWar/UkraineWar/0625_UkraineCombinedTweetsDeduped.csv.gzip  \n",
            "  inflating: UkraineWar/UkraineWar/0626_UkraineCombinedTweetsDeduped.csv.gzip  \n",
            "  inflating: UkraineWar/UkraineWar/0627_UkraineCombinedTweetsDeduped.csv.gzip  \n",
            "  inflating: UkraineWar/UkraineWar/0628_UkraineCombinedTweetsDeduped.csv.gzip  \n",
            "  inflating: UkraineWar/UkraineWar/0629_UkraineCombinedTweetsDeduped.csv.gzip  \n",
            "  inflating: UkraineWar/UkraineWar/0630_UkraineCombinedTweetsDeduped.csv.gzip  \n",
            "  inflating: UkraineWar/UkraineWar/0701_UkraineCombinedTweetsDeduped.csv.gzip  \n",
            "  inflating: UkraineWar/UkraineWar/0702_UkraineCombinedTweetsDeduped.csv.gzip  \n",
            "  inflating: UkraineWar/UkraineWar/0703_UkraineCombinedTweetsDeduped.csv.gzip  \n",
            "  inflating: UkraineWar/UkraineWar/0704_UkraineCombinedTweetsDeduped.csv.gzip  \n",
            "  inflating: UkraineWar/UkraineWar/0705_UkraineCombinedTweetsDeduped.csv.gzip  \n",
            "  inflating: UkraineWar/UkraineWar/0706_UkraineCombinedTweetsDeduped.csv.gzip  \n",
            "  inflating: UkraineWar/UkraineWar/0707_UkraineCombinedTweetsDeduped.csv.gzip  \n",
            "  inflating: UkraineWar/UkraineWar/0708_UkraineCombinedTweetsDeduped.csv.gzip  \n",
            "  inflating: UkraineWar/UkraineWar/0709_UkraineCombinedTweetsDeduped.csv.gzip  \n",
            "  inflating: UkraineWar/UkraineWar/0710_UkraineCombinedTweetsDeduped.csv.gzip  \n",
            "  inflating: UkraineWar/UkraineWar/0711_UkraineCombinedTweetsDeduped.csv.gzip  \n",
            "  inflating: UkraineWar/UkraineWar/0712_UkraineCombinedTweetsDeduped.csv.gzip  \n",
            "  inflating: UkraineWar/UkraineWar/0713_UkraineCombinedTweetsDeduped.csv.gzip  \n",
            "  inflating: UkraineWar/UkraineWar/0714_UkraineCombinedTweetsDeduped.csv.gzip  \n",
            "  inflating: UkraineWar/UkraineWar/0715_UkraineCombinedTweetsDeduped.csv.gzip  \n",
            "  inflating: UkraineWar/UkraineWar/0716_UkraineCombinedTweetsDeduped.csv.gzip  \n",
            "  inflating: UkraineWar/UkraineWar/0717_UkraineCombinedTweetsDeduped.csv.gzip  \n",
            "  inflating: UkraineWar/UkraineWar/0718_UkraineCombinedTweetsDeduped.csv.gzip  \n",
            "  inflating: UkraineWar/UkraineWar/0719_UkraineCombinedTweetsDeduped.csv.gzip  \n",
            "  inflating: UkraineWar/UkraineWar/0720_UkraineCombinedTweetsDeduped.csv.gzip  \n",
            "  inflating: UkraineWar/UkraineWar/0721_UkraineCombinedTweetsDeduped.csv.gzip  \n",
            "  inflating: UkraineWar/UkraineWar/0722_UkraineCombinedTweetsDeduped.csv.gzip  \n",
            "  inflating: UkraineWar/UkraineWar/0723_UkraineCombinedTweetsDeduped.csv.gzip  \n",
            "  inflating: UkraineWar/UkraineWar/0724_UkraineCombinedTweetsDeduped.csv.gzip  \n",
            "  inflating: UkraineWar/UkraineWar/0725_UkraineCombinedTweetsDeduped.csv.gzip  \n",
            "  inflating: UkraineWar/UkraineWar/0726_UkraineCombinedTweetsDeduped.csv.gzip  \n",
            "  inflating: UkraineWar/UkraineWar/0727_UkraineCombinedTweetsDeduped.csv.gzip  \n",
            "  inflating: UkraineWar/UkraineWar/0728_UkraineCombinedTweetsDeduped.csv.gzip  \n",
            "  inflating: UkraineWar/UkraineWar/0729_UkraineCombinedTweetsDeduped.csv.gzip  \n",
            "  inflating: UkraineWar/UkraineWar/0730_UkraineCombinedTweetsDeduped.csv.gzip  \n",
            "  inflating: UkraineWar/UkraineWar/0731_UkraineCombinedTweetsDeduped.csv.gzip  \n",
            "  inflating: UkraineWar/UkraineWar/0801_UkraineCombinedTweetsDeduped.csv.gzip  \n",
            "  inflating: UkraineWar/UkraineWar/0802_UkraineCombinedTweetsDeduped.csv.gzip  \n",
            "  inflating: UkraineWar/UkraineWar/0803_UkraineCombinedTweetsDeduped.csv.gzip  \n",
            "  inflating: UkraineWar/UkraineWar/0804_UkraineCombinedTweetsDeduped.csv.gzip  \n",
            "  inflating: UkraineWar/UkraineWar/0805_UkraineCombinedTweetsDeduped.csv.gzip  \n",
            "  inflating: UkraineWar/UkraineWar/0806_UkraineCombinedTweetsDeduped.csv.gzip  \n",
            "  inflating: UkraineWar/UkraineWar/0807_UkraineCombinedTweetsDeduped.csv.gzip  \n",
            "  inflating: UkraineWar/UkraineWar/0808_UkraineCombinedTweetsDeduped.csv.gzip  \n",
            "  inflating: UkraineWar/UkraineWar/0809_UkraineCombinedTweetsDeduped.csv.gzip  \n",
            "  inflating: UkraineWar/UkraineWar/0810_UkraineCombinedTweetsDeduped.csv.gzip  \n",
            "  inflating: UkraineWar/UkraineWar/0811_UkraineCombinedTweetsDeduped.csv.gzip  \n",
            "  inflating: UkraineWar/UkraineWar/0812_UkraineCombinedTweetsDeduped.csv.gzip  \n",
            "  inflating: UkraineWar/UkraineWar/0813_UkraineCombinedTweetsDeduped.csv.gzip  \n",
            "  inflating: UkraineWar/UkraineWar/0814_UkraineCombinedTweetsDeduped.csv.gzip  \n",
            "  inflating: UkraineWar/UkraineWar/0815_UkraineCombinedTweetsDeduped.csv.gzip  \n",
            "  inflating: UkraineWar/UkraineWar/0816_UkraineCombinedTweetsDeduped.csv.gzip  \n",
            "  inflating: UkraineWar/UkraineWar/0817_UkraineCombinedTweetsDeduped.csv.gzip  \n",
            "  inflating: UkraineWar/UkraineWar/0818_UkraineCombinedTweetsDeduped.csv.gzip  \n",
            "  inflating: UkraineWar/UkraineWar/UkraineCombinedTweetsDeduped20220227-131611.csv.gzip  \n",
            "  inflating: UkraineWar/UkraineWar/UkraineCombinedTweetsDeduped_FEB27.csv.gzip  \n",
            "  inflating: UkraineWar/UkraineWar/UkraineCombinedTweetsDeduped_FEB28_part1.csv.gzip  \n",
            "  inflating: UkraineWar/UkraineWar/UkraineCombinedTweetsDeduped_FEB28_part2.csv.gzip  \n",
            "  inflating: UkraineWar/UkraineWar/UkraineCombinedTweetsDeduped_MAR01.csv.gzip  \n",
            "  inflating: UkraineWar/UkraineWar/UkraineCombinedTweetsDeduped_MAR02.csv.gzip  \n",
            "  inflating: UkraineWar/UkraineWar/UkraineCombinedTweetsDeduped_MAR03.csv.gzip  \n",
            "  inflating: UkraineWar/UkraineWar/UkraineCombinedTweetsDeduped_MAR04.csv.gzip  \n",
            "  inflating: UkraineWar/UkraineWar/UkraineCombinedTweetsDeduped_MAR05.csv.gzip  \n",
            "  inflating: UkraineWar/UkraineWar/UkraineCombinedTweetsDeduped_MAR06.csv.gzip  \n",
            "  inflating: UkraineWar/UkraineWar/UkraineCombinedTweetsDeduped_MAR07.csv.gzip  \n",
            "  inflating: UkraineWar/UkraineWar/UkraineCombinedTweetsDeduped_MAR08.csv.gzip  \n",
            "  inflating: UkraineWar/UkraineWar/UkraineCombinedTweetsDeduped_MAR09.csv.gzip  \n",
            "  inflating: UkraineWar/UkraineWar/UkraineCombinedTweetsDeduped_MAR10.csv.gzip  \n",
            "  inflating: UkraineWar/UkraineWar/UkraineCombinedTweetsDeduped_MAR11.csv.gzip  \n",
            "  inflating: UkraineWar/UkraineWar/UkraineCombinedTweetsDeduped_MAR12.csv.gzip  \n",
            "  inflating: UkraineWar/UkraineWar/UkraineCombinedTweetsDeduped_MAR13.csv.gzip  \n",
            "  inflating: UkraineWar/UkraineWar/UkraineCombinedTweetsDeduped_MAR14.csv.gzip  \n",
            "  inflating: UkraineWar/UkraineWar/UkraineCombinedTweetsDeduped_MAR15.csv.gzip  \n",
            "  inflating: UkraineWar/UkraineWar/UkraineCombinedTweetsDeduped_MAR16.csv.gzip  \n",
            "  inflating: UkraineWar/UkraineWar/UkraineCombinedTweetsDeduped_MAR17.csv.gzip  \n",
            "  inflating: UkraineWar/UkraineWar/UkraineCombinedTweetsDeduped_MAR18.csv.gzip  \n",
            "  inflating: UkraineWar/UkraineWar/UkraineCombinedTweetsDeduped_MAR19.csv.gzip  \n",
            "  inflating: UkraineWar/UkraineWar/UkraineCombinedTweetsDeduped_MAR20.csv.gzip  \n",
            "  inflating: UkraineWar/UkraineWar/UkraineCombinedTweetsDeduped_MAR21.csv.gzip  \n",
            "  inflating: UkraineWar/UkraineWar/UkraineCombinedTweetsDeduped_MAR22.csv.gzip  \n",
            "  inflating: UkraineWar/UkraineWar/UkraineCombinedTweetsDeduped_MAR23.csv.gzip  \n",
            "  inflating: UkraineWar/UkraineWar/UkraineCombinedTweetsDeduped_MAR24.csv.gzip  \n",
            "  inflating: UkraineWar/UkraineWar/UkraineCombinedTweetsDeduped_MAR25.csv.gzip  \n",
            "  inflating: UkraineWar/UkraineWar/UkraineCombinedTweetsDeduped_MAR26.csv.gzip  \n",
            "  inflating: UkraineWar/UkraineWar/UkraineCombinedTweetsDeduped_MAR27_to_28.csv.gzip  \n",
            "  inflating: UkraineWar/UkraineWar/UkraineCombinedTweetsDeduped_MAR29.csv.gzip  \n",
            "  inflating: UkraineWar/UkraineWar/UkraineCombinedTweetsDeduped_MAR30.csv.gzip  \n",
            "  inflating: UkraineWar/UkraineWar/UkraineCombinedTweetsDeduped_MAR31.csv.gzip  \n"
          ]
        }
      ]
    },
    {
      "cell_type": "code",
      "source": [
        "import os\n",
        "os.getcwd()"
      ],
      "metadata": {
        "colab": {
          "base_uri": "https://localhost:8080/",
          "height": 35
        },
        "id": "C4GQZXhAQ5JJ",
        "outputId": "9d85db24-868a-4331-f280-5a1dd8c36734"
      },
      "execution_count": null,
      "outputs": [
        {
          "output_type": "execute_result",
          "data": {
            "text/plain": [
              "'/content'"
            ],
            "application/vnd.google.colaboratory.intrinsic+json": {
              "type": "string"
            }
          },
          "metadata": {},
          "execution_count": 9
        }
      ]
    },
    {
      "cell_type": "code",
      "source": [
        "os.listdir()"
      ],
      "metadata": {
        "colab": {
          "base_uri": "https://localhost:8080/"
        },
        "id": "X2YZTT4-Q5hI",
        "outputId": "a8e7ec22-9564-4a48-9675-7c1f7ada0bf8"
      },
      "execution_count": null,
      "outputs": [
        {
          "output_type": "execute_result",
          "data": {
            "text/plain": [
              "['.config',\n",
              " '0826_UkraineCombinedTweetsDeduped.csv.gzip',\n",
              " '0827_UkraineCombinedTweetsDeduped.csv.gzip',\n",
              " 'UkraineWar',\n",
              " '0904_UkraineCombinedTweetsDeduped.csv.gzip',\n",
              " '0830_UkraineCombinedTweetsDeduped.csv.gzip',\n",
              " '0908_UkraineCombinedTweetsDeduped.csv.gzip',\n",
              " '0910_UkraineCombinedTweetsDeduped.csv.gzip',\n",
              " '0902_UkraineCombinedTweetsDeduped.csv.gzip',\n",
              " '0824_UkraineCombinedTweetsDeduped.csv.gzip',\n",
              " '0821_UkraineCombinedTweetsDeduped.csv.gzip',\n",
              " '0907_UkraineCombinedTweetsDeduped.csv.gzip',\n",
              " '0822_UkraineCombinedTweetsDeduped.csv.gzip',\n",
              " '0829_UkraineCombinedTweetsDeduped.csv.gzip',\n",
              " '0909_UkraineCombinedTweetsDeduped.csv.gzip',\n",
              " '0905_UkraineCombinedTweetsDeduped.csv.gzip',\n",
              " '0823_UkraineCombinedTweetsDeduped.csv.gzip',\n",
              " '0914_UkraineCombinedTweetsDeduped.csv.gzip',\n",
              " '0913_UkraineCombinedTweetsDeduped.csv.gzip',\n",
              " '0825_UkraineCombinedTweetsDeduped.csv.gzip',\n",
              " 'ukraine-russian-crisis-twitter-dataset-1-2-m-rows.zip',\n",
              " '0828_UkraineCombinedTweetsDeduped.csv.gzip',\n",
              " '0911_UkraineCombinedTweetsDeduped.csv.gzip',\n",
              " '0819_UkraineCombinedTweetsDeduped.csv.gzip',\n",
              " '0831_UkraineCombinedTweetsDeduped.csv.gzip',\n",
              " '0901_UkraineCombinedTweetsDeduped.csv.gzip',\n",
              " '0912_UkraineCombinedTweetsDeduped.csv.gzip',\n",
              " '0820_UkraineCombinedTweetsDeduped.csv.gzip',\n",
              " '0903_UkraineCombinedTweetsDeduped.csv.gzip',\n",
              " '0906_UkraineCombinedTweetsDeduped.csv.gzip',\n",
              " 'sample_data']"
            ]
          },
          "metadata": {},
          "execution_count": 10
        }
      ]
    },
    {
      "cell_type": "code",
      "source": [
        "import os\n",
        "from mlxtend.frequent_patterns import association_rules\n",
        "import matplotlib.pyplot as plt\n",
        "import numpy as np\n",
        "import pandas as pd\n",
        "import csv\n",
        "import functools\n",
        "from pyspark import SparkConf, SparkContext\n",
        "from pyspark.sql import SparkSession\n",
        "import seaborn as sns\n",
        "import matplotlib.pyplot as plt\n",
        "from pyspark.sql import SQLContext\n",
        "from pyspark.sql.functions import regexp_replace, trim, col, lower\n",
        "from pyspark.ml.feature import Tokenizer, StopWordsRemover\n",
        "from pyspark.sql.functions import trim,split,explode,col\n",
        "from pyspark.sql.functions import expr\n",
        "from pyspark.sql.functions import udf, array_distinct\n",
        "from pyspark.sql.types import ArrayType,StringType\n",
        "from pyspark.sql.types import StructType,StructField\n",
        "import time\n",
        "from tqdm import tqdm\n",
        "from pyspark.ml.fpm import FPGrowth\n",
        "from pyspark.sql.types import StructType,StructField"
      ],
      "metadata": {
        "id": "eg9vKRRvJUyn"
      },
      "execution_count": null,
      "outputs": []
    },
    {
      "cell_type": "markdown",
      "source": [
        "## Data pre-processing"
      ],
      "metadata": {
        "id": "KfbmFRIWJkCT"
      }
    },
    {
      "cell_type": "code",
      "source": [
        "import os\n",
        "os.getcwd()"
      ],
      "metadata": {
        "colab": {
          "base_uri": "https://localhost:8080/",
          "height": 35
        },
        "id": "_pqM4Z7FR7qM",
        "outputId": "b494f766-10cd-4406-a82a-3b3fd4b30458"
      },
      "execution_count": null,
      "outputs": [
        {
          "output_type": "execute_result",
          "data": {
            "text/plain": [
              "'/content'"
            ],
            "application/vnd.google.colaboratory.intrinsic+json": {
              "type": "string"
            }
          },
          "metadata": {},
          "execution_count": 12
        }
      ]
    },
    {
      "cell_type": "code",
      "source": [
        "os.listdir()"
      ],
      "metadata": {
        "colab": {
          "base_uri": "https://localhost:8080/"
        },
        "id": "i-vAjX2aR94Q",
        "outputId": "76be852f-4f87-4d0f-b1bd-f979d3bd21c6"
      },
      "execution_count": null,
      "outputs": [
        {
          "output_type": "execute_result",
          "data": {
            "text/plain": [
              "['.config',\n",
              " '0826_UkraineCombinedTweetsDeduped.csv.gzip',\n",
              " '0827_UkraineCombinedTweetsDeduped.csv.gzip',\n",
              " 'UkraineWar',\n",
              " '0904_UkraineCombinedTweetsDeduped.csv.gzip',\n",
              " '0830_UkraineCombinedTweetsDeduped.csv.gzip',\n",
              " '0908_UkraineCombinedTweetsDeduped.csv.gzip',\n",
              " '0910_UkraineCombinedTweetsDeduped.csv.gzip',\n",
              " '0902_UkraineCombinedTweetsDeduped.csv.gzip',\n",
              " '0824_UkraineCombinedTweetsDeduped.csv.gzip',\n",
              " '0821_UkraineCombinedTweetsDeduped.csv.gzip',\n",
              " '0907_UkraineCombinedTweetsDeduped.csv.gzip',\n",
              " '0822_UkraineCombinedTweetsDeduped.csv.gzip',\n",
              " '0829_UkraineCombinedTweetsDeduped.csv.gzip',\n",
              " '0909_UkraineCombinedTweetsDeduped.csv.gzip',\n",
              " '0905_UkraineCombinedTweetsDeduped.csv.gzip',\n",
              " '0823_UkraineCombinedTweetsDeduped.csv.gzip',\n",
              " '0914_UkraineCombinedTweetsDeduped.csv.gzip',\n",
              " '0913_UkraineCombinedTweetsDeduped.csv.gzip',\n",
              " '0825_UkraineCombinedTweetsDeduped.csv.gzip',\n",
              " 'ukraine-russian-crisis-twitter-dataset-1-2-m-rows.zip',\n",
              " '0828_UkraineCombinedTweetsDeduped.csv.gzip',\n",
              " '0911_UkraineCombinedTweetsDeduped.csv.gzip',\n",
              " '0819_UkraineCombinedTweetsDeduped.csv.gzip',\n",
              " '0831_UkraineCombinedTweetsDeduped.csv.gzip',\n",
              " '0901_UkraineCombinedTweetsDeduped.csv.gzip',\n",
              " '0912_UkraineCombinedTweetsDeduped.csv.gzip',\n",
              " '0820_UkraineCombinedTweetsDeduped.csv.gzip',\n",
              " '0903_UkraineCombinedTweetsDeduped.csv.gzip',\n",
              " '0906_UkraineCombinedTweetsDeduped.csv.gzip',\n",
              " 'sample_data']"
            ]
          },
          "metadata": {},
          "execution_count": 13
        }
      ]
    },
    {
      "cell_type": "code",
      "source": [
        "data_to_read =[\n",
        " '0904_UkraineCombinedTweetsDeduped.csv.gzip',\n",
        " '0908_UkraineCombinedTweetsDeduped.csv.gzip',\n",
        " '0910_UkraineCombinedTweetsDeduped.csv.gzip',\n",
        " '0902_UkraineCombinedTweetsDeduped.csv.gzip',\n",
        " '0907_UkraineCombinedTweetsDeduped.csv.gzip',\n",
        " '0909_UkraineCombinedTweetsDeduped.csv.gzip',\n",
        " '0905_UkraineCombinedTweetsDeduped.csv.gzip',\n",
        " '0914_UkraineCombinedTweetsDeduped.csv.gzip',\n",
        " '0913_UkraineCombinedTweetsDeduped.csv.gzip'\n",
        " ]"
      ],
      "metadata": {
        "id": "iRzTZuM4AmX_"
      },
      "execution_count": null,
      "outputs": []
    },
    {
      "cell_type": "code",
      "source": [
        "data_collection = []\n",
        "\n",
        "columns = [\"userid\",\"text\",\"language\"]\n",
        "\n",
        "for data in data_to_read:\n",
        "\n",
        "\n",
        "  df = pd.read_csv(data, compression='gzip', index_col=0,encoding='utf-8', quoting=csv.QUOTE_ALL, low_memory=False)\n",
        "  df= df[columns]\n",
        "  data_collection.append(df)\n",
        "  print(f\"The data {data} has {len(df)} number of rows \")\n"
      ],
      "metadata": {
        "colab": {
          "base_uri": "https://localhost:8080/"
        },
        "id": "7Ukj9eU7Belv",
        "outputId": "8bfbd8b7-08a1-4db5-8a43-8c90f1f10485"
      },
      "execution_count": null,
      "outputs": [
        {
          "output_type": "stream",
          "name": "stdout",
          "text": [
            "The data 0904_UkraineCombinedTweetsDeduped.csv.gzip has 40151 number of rows \n",
            "The data 0908_UkraineCombinedTweetsDeduped.csv.gzip has 47830 number of rows \n",
            "The data 0910_UkraineCombinedTweetsDeduped.csv.gzip has 64953 number of rows \n",
            "The data 0902_UkraineCombinedTweetsDeduped.csv.gzip has 53668 number of rows \n",
            "The data 0907_UkraineCombinedTweetsDeduped.csv.gzip has 46496 number of rows \n",
            "The data 0909_UkraineCombinedTweetsDeduped.csv.gzip has 70401 number of rows \n",
            "The data 0905_UkraineCombinedTweetsDeduped.csv.gzip has 44695 number of rows \n",
            "The data 0914_UkraineCombinedTweetsDeduped.csv.gzip has 75392 number of rows \n",
            "The data 0913_UkraineCombinedTweetsDeduped.csv.gzip has 63866 number of rows \n"
          ]
        }
      ]
    },
    {
      "cell_type": "code",
      "source": [
        "df_all = pd.concat(data_collection, axis=0)\n",
        "df_all.shape"
      ],
      "metadata": {
        "colab": {
          "base_uri": "https://localhost:8080/"
        },
        "id": "_g7CWnEGOtyQ",
        "outputId": "2a7dad92-2cde-4837-d628-011fdbbcbbfc"
      },
      "execution_count": null,
      "outputs": [
        {
          "output_type": "execute_result",
          "data": {
            "text/plain": [
              "(507452, 3)"
            ]
          },
          "metadata": {},
          "execution_count": 16
        }
      ]
    },
    {
      "cell_type": "code",
      "source": [
        "def pre_processing(data,column):\n",
        "\n",
        "  print(\"initial shape of the data\",data.shape)\n",
        "\n",
        "  data.drop_duplicates(subset=[\"text\"],keep=\"last\",inplace=True)\n",
        "\n",
        "  print(\"shape of the data after dropping retweets\", data.shape)\n",
        "\n",
        "  data = data[data[\"language\"]==\"en\"]\n",
        "\n",
        "  print(\"shape of the data after filtering english tweets:\", data.shape)\n",
        "\n",
        "\n",
        "  #convert the dataset into spark dataframe\n",
        "\n",
        "\n",
        "\n",
        "  spark = SparkSession.builder.enableHiveSupport().getOrCreate()\n",
        "  spark.conf.set(\"spark.sql.execution.arrow.pyspark.enabled\", \"true\")\n",
        "  sc = spark.sparkContext \n",
        "\n",
        "  sparkDataset=spark.createDataFrame(df_all) \n",
        "  sparkDataset.createOrReplaceTempView(\"spark_sql_sesion\")  \n",
        "\n",
        "  sparkDataset = sparkDataset.select(\"userid\",lower(trim(regexp_replace(column,'\\\\p{Punct}',''))).alias(\"text\"))\n",
        "\n",
        "  print(sparkDataset.columns)\n",
        "\n",
        "  tokenizer = Tokenizer(inputCol='text', outputCol='tokens')\n",
        "  sparkDataset = sparkDataset.withColumn(\"text\", trim(col(\"text\")))\n",
        "  sparkDataset = tokenizer.transform(sparkDataset)\n",
        "\n",
        "  remover = StopWordsRemover(inputCol='tokens', outputCol='tokenClean')\n",
        "  sparkDataset = remover.transform(sparkDataset).select(\"userid\",\"text\",'tokenClean') \n",
        "\n",
        "  sparkDataset = sparkDataset.withColumn(\"tokenClean\", array_distinct(col(\"tokenClean\")))\n",
        "\n",
        "  sparkDataset = sparkDataset.withColumn(\"tokenClean\", expr(\"filter(tokenClean, elem -> elem != '')\"))\n",
        "\n",
        "\n",
        "\n",
        "  return sparkDataset"
      ],
      "metadata": {
        "id": "0V4UaCH4Oypv"
      },
      "execution_count": null,
      "outputs": []
    },
    {
      "cell_type": "code",
      "source": [
        "spark_dataframe = pre_processing(df_all,\"text\")\n",
        "spark_dataframe.show(truncate=False)"
      ],
      "metadata": {
        "colab": {
          "base_uri": "https://localhost:8080/"
        },
        "id": "qFReKHiBPME6",
        "outputId": "7c260d42-84c9-4ef0-a366-0b54eb5a7e7c"
      },
      "execution_count": null,
      "outputs": [
        {
          "output_type": "stream",
          "name": "stdout",
          "text": [
            "initial shape of the data (507452, 3)\n",
            "shape of the data after dropping retweets (497036, 3)\n",
            "shape of the data after filtering english tweets: (247227, 3)\n",
            "['userid', 'text']\n",
            "+-------------------+------------------------------------------------------------------------------------------------------------------------------------------------------------------------------------------------------------------------------------------------------------------------------------------------------------------------------------------------------------------------------------------------------------------------------------------------------------------------------------------------------------------------------------------------------------------------------------------------------------------------------------------------------+-----------------------------------------------------------------------------------------------------------------------------------------------------------------------------------------------------------------------------------------------------------------------------------------------------------------------------------------------------------------------------------------------------------------------------------------------------------------------------------------------------------------------------------------------------------------------------------------------------------------------------------------------+\n",
            "|userid             |text                                                                                                                                                                                                                                                                                                                                                                                                                                                                                                                                                                                                                                                  |tokenClean                                                                                                                                                                                                                                                                                                                                                                                                                                                                                                                                                                                                                                     |\n",
            "+-------------------+------------------------------------------------------------------------------------------------------------------------------------------------------------------------------------------------------------------------------------------------------------------------------------------------------------------------------------------------------------------------------------------------------------------------------------------------------------------------------------------------------------------------------------------------------------------------------------------------------------------------------------------------------+-----------------------------------------------------------------------------------------------------------------------------------------------------------------------------------------------------------------------------------------------------------------------------------------------------------------------------------------------------------------------------------------------------------------------------------------------------------------------------------------------------------------------------------------------------------------------------------------------------------------------------------------------+\n",
            "|1475855481046540290|a raytheontech subsidiary has secured a 182 million usarmy contract to provide a groundbased air defense system to ukraine as part of a militaryaid package\\n\\ngovcon \\n\\nhttpstcoycshzwgefy                                                                                                                                                                                                                                                                                                                                                                                                                                                          |[raytheontech, subsidiary, secured, 182, million, usarmy, contract, provide, groundbased, air, defense, system, ukraine, part, militaryaid, package, govcon, httpstcoycshzwgefy]                                                                                                                                                                                                                                                                                                                                                                                                                                                               |\n",
            "|332617937          |rusia  algo más de mil personas dieron su último adiós a mijaíl gorbachov en la casa de los sindicatos en moscú el único político importante en asistir fue el presidente de hungría vicktor orban el presidente ruso vladimir putin se ausentó “por razones de agenda”                                                                                                                                                                                                                                                                                                                                                                               |[rusia, algo, más, de, mil, personas, dieron, su, último, adiós, mijaíl, gorbachov, en, la, casa, los, sindicatos, moscú, el, único, político, importante, asistir, fue, presidente, hungría, vicktor, orban, ruso, vladimir, putin, se, ausentó, “por, razones, agenda”]                                                                                                                                                                                                                                                                                                                                                                      |\n",
            "|1524003808917008384|explosion in chernihiv zelenskyyua addresses to local governments across ukraine httpstcohelz9f6ea5                                                                                                                                                                                                                                                                                                                                                                                                                                                                                                                                                   |[explosion, chernihiv, zelenskyyua, addresses, local, governments, across, ukraine, httpstcohelz9f6ea5]                                                                                                                                                                                                                                                                                                                                                                                                                                                                                                                                        |\n",
            "|1080402760955244544|panoramatvp2  rosja 🇷🇺 wyposaża żołnierzy w wadliwy sprzęt  ustalił ukraiński wywiad ten którym armia putina dysponuje na froncie jest skutecznie niszczony w ciągu 3 dni ukraińcy używając dronów zniszczyli sprzęt wart ponad 26 milionów dolarów\\nhttpstco5eu2abiuo4                                                                                                                                                                                                                                                                                                                                                                             |[panoramatvp2, rosja, 🇷🇺, wyposaża, żołnierzy, w, wadliwy, sprzęt, ustalił, ukraiński, wywiad, ten, którym, armia, putina, dysponuje, na, froncie, jest, skutecznie, niszczony, ciągu, 3, dni, ukraińcy, używając, dronów, zniszczyli, wart, ponad, 26, milionów, dolarów, httpstco5eu2abiuo4]                                                                                                                                                                                                                                                                                                                                               |\n",
            "|15968273           |ukraines nuclear plant goes offline amid fighting  \\n\\nenergy physics nuclearpower nuclearphysics engineering particlephysics ukraine🇺🇦 freedom🇺🇲 keepkyivfree✊🏽 zelenskyy fuckputin\\n \\nhttpstcolprxgfynoz from abcnews                                                                                                                                                                                                                                                                                                                                                                                                                         |[ukraines, nuclear, plant, goes, offline, amid, fighting, energy, physics, nuclearpower, nuclearphysics, engineering, particlephysics, ukraine🇺🇦, freedom🇺🇲, keepkyivfree✊🏽, zelenskyy, fuckputin, httpstcolprxgfynoz, abcnews]                                                                                                                                                                                                                                                                                                                                                                                                           |\n",
            "|2852858199         |rússia mantém oleoduto fechado enquanto gazprom e siemensenergy discutem\\n\\nhttpstcocaikzq1p9v                                                                                                                                                                                                                                                                                                                                                                                                                                                                                                                                                        |[rússia, mantém, oleoduto, fechado, enquanto, gazprom, e, siemensenergy, discutem, httpstcocaikzq1p9v]                                                                                                                                                                                                                                                                                                                                                                                                                                                                                                                                         |\n",
            "|1499763123603050497|gå i deg selv putin\\nnorwegian\\n\\nrussiainvadedukraine russiawarcrimes standwithukraine ukraine                                                                                                                                                                                                                                                                                                                                                                                                                                                                                                                                                       |[gå, deg, selv, putin, norwegian, russiainvadedukraine, russiawarcrimes, standwithukraine, ukraine]                                                                                                                                                                                                                                                                                                                                                                                                                                                                                                                                            |\n",
            "|4275805154         |disclosetv bjcollins131 biden replies to presidenttrump with a unity plea httpstcojdzbcbof42                                                                                                                                                                                                                                                                                                                                                                                                                                                                                                                                                          |[disclosetv, bjcollins131, biden, replies, presidenttrump, unity, plea, httpstcojdzbcbof42]                                                                                                                                                                                                                                                                                                                                                                                                                                                                                                                                                    |\n",
            "|2484532116         |gazprom de rusia anuncia el cierre indefinido del gasoducto nordstream1 ► httpstcolbprkloam4 httpstcoygw55mkzxw                                                                                                                                                                                                                                                                                                                                                                                                                                                                                                                                       |[gazprom, de, rusia, anuncia, el, cierre, indefinido, del, gasoducto, nordstream1, ►, httpstcolbprkloam4, httpstcoygw55mkzxw]                                                                                                                                                                                                                                                                                                                                                                                                                                                                                                                  |\n",
            "|374765784          |10 thousand million jobs created by biden and whitehouse isnt that more than the whole usa population httpstcozo3d8pavye                                                                                                                                                                                                                                                                                                                                                                                                                                                                                                                              |[10, thousand, million, jobs, created, biden, whitehouse, isnt, whole, usa, population, httpstcozo3d8pavye]                                                                                                                                                                                                                                                                                                                                                                                                                                                                                                                                    |\n",
            "|52571677           |schroeder mentioned his own repeated condemnation of russia’s military offensive against ukraine describing it as a “mistake of the russian govt” however he expressed doubt as to whether distancing himself personally from russian president putin “would do any good”\\nrtnews                                                                                                                                                                                                                                                                                                                                                                     |[schroeder, mentioned, repeated, condemnation, russia’s, military, offensive, ukraine, describing, “mistake, russian, govt”, however, expressed, doubt, whether, distancing, personally, president, putin, “would, good”, rtnews]                                                                                                                                                                                                                                                                                                                                                                                                              |\n",
            "|966406366930849792 |🌽 ucrania l ha exportado 168 millones de toneladas de productos agrícolas desde que el pasado 1 de agosto entró en vigor el acuerdo para desbloquear los puertos que quedaron cerrados por la invasión rusa del país\\nhttpstcocfxqlajb4y                                                                                                                                                                                                                                                                                                                                                                                                             |[🌽, ucrania, l, ha, exportado, 168, millones, de, toneladas, productos, agrícolas, desde, que, el, pasado, 1, agosto, entró, en, vigor, acuerdo, para, desbloquear, los, puertos, quedaron, cerrados, por, la, invasión, rusa, del, país, httpstcocfxqlajb4y]                                                                                                                                                                                                                                                                                                                                                                                 |\n",
            "|1525294493271855105|guillau15264609 peteral60468196 hrvatina1989 nincompoopf bernielomax gigazio angryben4 caspineft sapperninja dowoftheajones1 foxarktik solent123 kschapher payrepublicans ianbruce mattl8241 tmindful182 polymathbull ardiaei1912 jamesron1980 moshamut10 janyvaper tauntonheat brettwadsworth9 klausroehl barsei2 oyvega samherkhalas eastbayconnect voinageo newpatriote bayraktar1love most likely outcome is a russian economic collapse and a pullback to the 2014 lines russia has no significant conventional assets remaining to fight a second front with and will not expose moscow to retaliatory nuclear destruction to protect the crimea|[guillau15264609, peteral60468196, hrvatina1989, nincompoopf, bernielomax, gigazio, angryben4, caspineft, sapperninja, dowoftheajones1, foxarktik, solent123, kschapher, payrepublicans, ianbruce, mattl8241, tmindful182, polymathbull, ardiaei1912, jamesron1980, moshamut10, janyvaper, tauntonheat, brettwadsworth9, klausroehl, barsei2, oyvega, samherkhalas, eastbayconnect, voinageo, newpatriote, bayraktar1love, likely, outcome, russian, economic, collapse, pullback, 2014, lines, russia, significant, conventional, assets, remaining, fight, second, front, expose, moscow, retaliatory, nuclear, destruction, protect, crimea]|\n",
            "|80619799           |as reagan said we are the shining city on the hill but biden has turned out the lights support trump and turn on the lights again\\ndjtpennra11y                                                                                                                                                                                                                                                                                                                                                                                                                                                                                                       |[reagan, said, shining, city, hill, biden, turned, lights, support, trump, turn, djtpennra11y]                                                                                                                                                                                                                                                                                                                                                                                                                                                                                                                                                 |\n",
            "|1502350740161019905|‼️🇺🇦exclusive war footage of soldiers of the ukrainian 93rd specialized brigade cold yar ukrainian heroes destroy the enemy in the direction of donetsk\\n\\ntwo invaders managed to escape but we are sure they will suffer the same fate as others\\n\\nukraine️ armukrainenow\\n\\n12 httpstcoldloqxwqs9                                                                                                                                                                                                                                                                                                                                               |[‼️🇺🇦exclusive, war, footage, soldiers, ukrainian, 93rd, specialized, brigade, cold, yar, heroes, destroy, enemy, direction, donetsk, two, invaders, managed, escape, sure, suffer, fate, others, ukraine️, armukrainenow, 12, httpstcoldloqxwqs9]                                                                                                                                                                                                                                                                                                                                                                                           |\n",
            "|1013813874095808515|trumpstolethedocs maga magats magaisover \\nwell lets see so far we have 20 fbi agents ratting out the doj never in history has that happened\\nfbi director wray said on the floor of the senate he is very concerned about alleged biden fbi bias                                                                                                                                                                                                                                                                                                                                                                                                     |[trumpstolethedocs, maga, magats, magaisover, well, lets, see, far, 20, fbi, agents, ratting, doj, never, history, happened, director, wray, said, floor, senate, concerned, alleged, biden, bias]                                                                                                                                                                                                                                                                                                                                                                                                                                             |\n",
            "|1348714168782827524|all clear 04092022\\n\\n030023\\nkirovohrad oblast kirovohrad oblast\\nкіровоградська область кіровоградська область\\nalert length 13023\\n\\nukraine  message was generated using municipal data httpstcodmnzwzqctw                                                                                                                                                                                                                                                                                                                                                                                                                                        |[clear, 04092022, 030023, kirovohrad, oblast, кіровоградська, область, alert, length, 13023, ukraine, message, generated, using, municipal, data, httpstcodmnzwzqctw]                                                                                                                                                                                                                                                                                                                                                                                                                                                                          |\n",
            "|1556607631590330368|there are several ways eastasia can stop fueling the russianwar machine according to creacleanair \\nbuyers should end all purchases and create a plan to replace russian fossilfuels with renewableenergy\\n\\nhttpstcotp382t340h httpstcok6xrvqbark                                                                                                                                                                                                                                                                                                                                                                                                    |[several, ways, eastasia, stop, fueling, russianwar, machine, according, creacleanair, buyers, end, purchases, create, plan, replace, russian, fossilfuels, renewableenergy, httpstcotp382t340h, httpstcok6xrvqbark]                                                                                                                                                                                                                                                                                                                                                                                                                           |\n",
            "|1573512366         |standwithus shaarezedekmed glad to see that young ukrainian doing much better with the help of israel sadly lots of hate messages are being spread on facebook twitter among ukrainians about upcoming jewish holy holidays amp possibility of orthodox jews visiting uman ukraine pure antisemitism                                                                                                                                                                                                                                                                                                                                                  |[standwithus, shaarezedekmed, glad, see, young, ukrainian, much, better, help, israel, sadly, lots, hate, messages, spread, facebook, twitter, among, ukrainians, upcoming, jewish, holy, holidays, amp, possibility, orthodox, jews, visiting, uman, ukraine, pure, antisemitism]                                                                                                                                                                                                                                                                                                                                                             |\n",
            "|227630137          |rusia consider the iranian oil as playing card at the internationalmarket in case saudiarabia and golfcountries decide to pump more                                                                                                                                                                                                                                                                                                                                                                                                                                                                                                                   |[rusia, consider, iranian, oil, playing, card, internationalmarket, case, saudiarabia, golfcountries, decide, pump]                                                                                                                                                                                                                                                                                                                                                                                                                                                                                                                            |\n",
            "+-------------------+------------------------------------------------------------------------------------------------------------------------------------------------------------------------------------------------------------------------------------------------------------------------------------------------------------------------------------------------------------------------------------------------------------------------------------------------------------------------------------------------------------------------------------------------------------------------------------------------------------------------------------------------------+-----------------------------------------------------------------------------------------------------------------------------------------------------------------------------------------------------------------------------------------------------------------------------------------------------------------------------------------------------------------------------------------------------------------------------------------------------------------------------------------------------------------------------------------------------------------------------------------------------------------------------------------------+\n",
            "only showing top 20 rows\n",
            "\n"
          ]
        }
      ]
    },
    {
      "cell_type": "code",
      "source": [
        "spark_dataframe = spark_dataframe.drop(\"userid\")\n",
        "spark_dataframe.show()"
      ],
      "metadata": {
        "id": "aV5aXzKePN_7",
        "colab": {
          "base_uri": "https://localhost:8080/"
        },
        "outputId": "8b04bc41-ad21-4ae1-e000-934ddd050b38"
      },
      "execution_count": null,
      "outputs": [
        {
          "output_type": "stream",
          "name": "stdout",
          "text": [
            "+--------------------+--------------------+\n",
            "|                text|          tokenClean|\n",
            "+--------------------+--------------------+\n",
            "|a raytheontech su...|[raytheontech, su...|\n",
            "|rusia  algo más d...|[rusia, algo, más...|\n",
            "|explosion in cher...|[explosion, chern...|\n",
            "|panoramatvp2  ros...|[panoramatvp2, ro...|\n",
            "|ukraines nuclear ...|[ukraines, nuclea...|\n",
            "|rússia mantém ole...|[rússia, mantém, ...|\n",
            "|gå i deg selv put...|[gå, deg, selv, p...|\n",
            "|disclosetv bjcoll...|[disclosetv, bjco...|\n",
            "|gazprom de rusia ...|[gazprom, de, rus...|\n",
            "|10 thousand milli...|[10, thousand, mi...|\n",
            "|schroeder mention...|[schroeder, menti...|\n",
            "|🌽 ucrania l ha e...|[🌽, ucrania, l, ...|\n",
            "|guillau15264609 p...|[guillau15264609,...|\n",
            "|as reagan said we...|[reagan, said, sh...|\n",
            "|‼️🇺🇦exclusive w...|[‼️🇺🇦exclusive,...|\n",
            "|trumpstolethedocs...|[trumpstolethedoc...|\n",
            "|all clear 0409202...|[clear, 04092022,...|\n",
            "|there are several...|[several, ways, e...|\n",
            "|standwithus shaar...|[standwithus, sha...|\n",
            "|rusia consider th...|[rusia, consider,...|\n",
            "+--------------------+--------------------+\n",
            "only showing top 20 rows\n",
            "\n"
          ]
        }
      ]
    },
    {
      "cell_type": "markdown",
      "source": [
        "## FP-growth Algorithm implementation for finding the large itemsets"
      ],
      "metadata": {
        "id": "dWuhJMwdSecS"
      }
    },
    {
      "cell_type": "code",
      "source": [
        "np.random.seed(1)\n",
        "\n",
        "\n",
        "\n",
        "threshold = [0.01,0.02,0.03,0.04,0.05]\n",
        "time_elapsed = {}\n",
        "\n",
        "for soglia in tqdm( threshold ):\n",
        "\n",
        "\n",
        "  fpGrowth = FPGrowth(itemsCol=\"tokenClean\", minSupport = soglia)\n",
        "\n",
        "  # compute time difference\n",
        "  start_time = time.time()\n",
        "  model = fpGrowth.fit(spark_dataframe)\n",
        "\n",
        "  time_elapsed[soglia] = time.time() - start_time"
      ],
      "metadata": {
        "id": "uEE-WjdbSh-T",
        "colab": {
          "base_uri": "https://localhost:8080/"
        },
        "outputId": "475c1ba9-d816-4d42-becf-2f8f4d1a9ac1"
      },
      "execution_count": null,
      "outputs": [
        {
          "output_type": "stream",
          "name": "stderr",
          "text": [
            "100%|██████████| 5/5 [06:26<00:00, 77.24s/it]\n"
          ]
        }
      ]
    },
    {
      "cell_type": "code",
      "source": [
        "time_elapsed"
      ],
      "metadata": {
        "id": "Xn1Qqph-SoLq",
        "colab": {
          "base_uri": "https://localhost:8080/"
        },
        "outputId": "1e83413e-9d47-4a22-9ea0-3f75cd86bea6"
      },
      "execution_count": null,
      "outputs": [
        {
          "output_type": "execute_result",
          "data": {
            "text/plain": [
              "{0.01: 94.69298529624939,\n",
              " 0.02: 74.18501687049866,\n",
              " 0.03: 74.96248650550842,\n",
              " 0.04: 71.58879590034485,\n",
              " 0.05: 70.64629673957825}"
            ]
          },
          "metadata": {},
          "execution_count": 21
        }
      ]
    },
    {
      "cell_type": "code",
      "source": [
        "spark = SparkSession.builder.enableHiveSupport().getOrCreate()\n",
        "spark.conf.set(\"spark.sql.execution.arrow.pyspark.enabled\", \"true\")\n",
        "sc = spark.sparkContext\n",
        "\n",
        "time_elapsed_df = spark.createDataFrame(time_elapsed.items(), \n",
        "                      schema=StructType(fields=[\n",
        "                          StructField(\"Threshold\", StringType()), \n",
        "                          StructField(\"Time Elapsed(seconds)\", StringType())]))\n",
        "time_elapsed_df.show()"
      ],
      "metadata": {
        "id": "rnUDEi6QTRJN",
        "colab": {
          "base_uri": "https://localhost:8080/"
        },
        "outputId": "8e579d51-4525-42f5-e1ef-225945c43433"
      },
      "execution_count": null,
      "outputs": [
        {
          "output_type": "stream",
          "name": "stdout",
          "text": [
            "+---------+---------------------+\n",
            "|Threshold|Time Elapsed(seconds)|\n",
            "+---------+---------------------+\n",
            "|     0.01|    94.69298529624939|\n",
            "|     0.02|    74.18501687049866|\n",
            "|     0.03|    74.96248650550842|\n",
            "|     0.04|    71.58879590034485|\n",
            "|     0.05|    70.64629673957825|\n",
            "+---------+---------------------+\n",
            "\n"
          ]
        }
      ]
    },
    {
      "cell_type": "code",
      "source": [
        "# Try different fraction of the dataframe\n",
        "sample_size = [0.1,0.3,0.5,0.7,0.9]\n",
        "time_elapsed_fraction = {}\n",
        "for fraction in tqdm(sample_size):\n",
        "    # extract a fraction of the dataframe\n",
        "    df_fraction = spark_dataframe.sample(False, fraction, seed = 1)\n",
        "    fpGrowth = FPGrowth(itemsCol = 'tokenClean', minSupport = 0.02)\n",
        "    start_time = time.time()\n",
        "    model = fpGrowth.fit(df_fraction)   \n",
        "    time_elapsed_fraction[fraction] = time.time() - start_time"
      ],
      "metadata": {
        "id": "otOnwGVYTUR9",
        "colab": {
          "base_uri": "https://localhost:8080/"
        },
        "outputId": "37ca72c5-b56e-465d-f0e2-1866408f9252"
      },
      "execution_count": null,
      "outputs": [
        {
          "output_type": "stream",
          "name": "stderr",
          "text": [
            "100%|██████████| 5/5 [02:46<00:00, 33.33s/it]\n"
          ]
        }
      ]
    },
    {
      "cell_type": "code",
      "source": [
        "time_elapsed_fraction_df = spark.createDataFrame(time_elapsed_fraction.items(), \n",
        "                      schema=StructType(fields=[\n",
        "                          StructField(\"Fraction\", StringType()), \n",
        "                          StructField(\"Time Elapsed(seconds)\", StringType())]))\n",
        "\n",
        "\n",
        "time_elapsed_fraction_df.show()"
      ],
      "metadata": {
        "id": "Xamy4utGTV4E",
        "colab": {
          "base_uri": "https://localhost:8080/"
        },
        "outputId": "35383c33-1c2c-4c38-e61b-fe1d4dc9566d"
      },
      "execution_count": null,
      "outputs": [
        {
          "output_type": "stream",
          "name": "stdout",
          "text": [
            "+--------+---------------------+\n",
            "|Fraction|Time Elapsed(seconds)|\n",
            "+--------+---------------------+\n",
            "|     0.1|    18.47211527824402|\n",
            "|     0.3|   24.944506883621216|\n",
            "|     0.5|    30.45950198173523|\n",
            "|     0.7|     41.0325665473938|\n",
            "|     0.9|    51.61330533027649|\n",
            "+--------+---------------------+\n",
            "\n"
          ]
        }
      ]
    },
    {
      "cell_type": "code",
      "source": [
        "np.random.seed(1)\n",
        "\n",
        "fpGrowth = FPGrowth(itemsCol=\"tokenClean\", minSupport = 0.01)\n",
        "model = fpGrowth.fit(spark_dataframe)\n",
        "association_rules = model.associationRules\n",
        "frequent_items = model.freqItemsets"
      ],
      "metadata": {
        "id": "e6tz0JIlTW4n"
      },
      "execution_count": null,
      "outputs": []
    },
    {
      "cell_type": "code",
      "source": [
        "frequent_items.orderBy(\"freq\",ascending=False).show(10,truncate=False)"
      ],
      "metadata": {
        "id": "N2gcWrhcTZA9",
        "colab": {
          "base_uri": "https://localhost:8080/"
        },
        "outputId": "81426a7c-137e-458f-a56c-64f538f23a89"
      },
      "execution_count": null,
      "outputs": [
        {
          "output_type": "stream",
          "name": "stdout",
          "text": [
            "+------------------+------+\n",
            "|items             |freq  |\n",
            "+------------------+------+\n",
            "|[ukraine]         |142688|\n",
            "|[russia]          |78553 |\n",
            "|[putin]           |52010 |\n",
            "|[russian]         |37730 |\n",
            "|[russia, ukraine] |33743 |\n",
            "|[la]              |33445 |\n",
            "|[de]              |32646 |\n",
            "|[ukrainerussiawar]|27558 |\n",
            "|[queenelizabeth]  |27136 |\n",
            "|[biden]           |26866 |\n",
            "+------------------+------+\n",
            "only showing top 10 rows\n",
            "\n"
          ]
        }
      ]
    },
    {
      "cell_type": "code",
      "source": [
        "association_rules.show(10,truncate=False)"
      ],
      "metadata": {
        "id": "Wf5yzA9NTZl6",
        "colab": {
          "base_uri": "https://localhost:8080/"
        },
        "outputId": "7a9a2cac-2554-44d3-b056-e3a40e0431bb"
      },
      "execution_count": null,
      "outputs": [
        {
          "output_type": "stream",
          "name": "stdout",
          "text": [
            "+----------------------+----------------+------------------+------------------+--------------------+\n",
            "|antecedent            |consequent      |confidence        |lift              |support             |\n",
            "+----------------------+----------------+------------------+------------------+--------------------+\n",
            "|[en, la]              |[de]            |0.8311676343194175|12.654543781522577|0.018145566920705944|\n",
            "|[born, shutdown]      |[pink]          |0.9986784972626015|83.38302798007969 |0.010643092250863117|\n",
            "|[born]                |[pink]          |0.9523888796404195|79.51815205458685 |0.01151023265920376 |\n",
            "|[born]                |[day2tobornpink]|0.8540036623938738|81.23838551992372 |0.010321183978625291|\n",
            "|[born]                |[shutdown]      |0.8818045613450974|39.53889147070112 |0.01065717573777352 |\n",
            "|[day2tobornpink, born]|[pink]          |0.9992202729044835|83.42826265132754 |0.010313136271819345|\n",
            "|[day2tobornpink, pink]|[born]          |0.9955331132258691|82.37319734731697 |0.010313136271819345|\n",
            "|[pink]                |[shutdown]      |0.9005543423483958|40.379605602478776|0.010785939046668651|\n",
            "|[pink]                |[born]          |0.9610280530824794|79.51815205458685 |0.01151023265920376 |\n",
            "|[pink]                |[day2tobornpink]|0.8649420460272131|82.27891574912572 |0.010359410585953532|\n",
            "+----------------------+----------------+------------------+------------------+--------------------+\n",
            "only showing top 10 rows\n",
            "\n"
          ]
        }
      ]
    },
    {
      "cell_type": "code",
      "source": [
        "frequent_items.count()"
      ],
      "metadata": {
        "id": "D1xzY0lUTbqC",
        "colab": {
          "base_uri": "https://localhost:8080/"
        },
        "outputId": "edc2bf4f-42ec-41b3-ce55-85d897395f79"
      },
      "execution_count": null,
      "outputs": [
        {
          "output_type": "execute_result",
          "data": {
            "text/plain": [
              "213"
            ]
          },
          "metadata": {},
          "execution_count": 28
        }
      ]
    },
    {
      "cell_type": "code",
      "source": [
        "association_rules.count()"
      ],
      "metadata": {
        "id": "T3xPFGmCTdXB",
        "colab": {
          "base_uri": "https://localhost:8080/"
        },
        "outputId": "0cf1bdfd-a445-4985-d946-ca8552a6856f"
      },
      "execution_count": null,
      "outputs": [
        {
          "output_type": "execute_result",
          "data": {
            "text/plain": [
              "18"
            ]
          },
          "metadata": {},
          "execution_count": 29
        }
      ]
    },
    {
      "cell_type": "code",
      "source": [
        "fp_th_pd = time_elapsed_df.toPandas()\n",
        "\n",
        "fp_frac_pd = time_elapsed_fraction_df.toPandas()\n",
        "\n",
        "fp_frac_pd[\"Time Elapsed(seconds)\"] = fp_frac_pd[\"Time Elapsed(seconds)\"].apply(lambda x: round((float(x)),2))"
      ],
      "metadata": {
        "id": "CSqQUpxKTeuQ"
      },
      "execution_count": null,
      "outputs": []
    },
    {
      "cell_type": "code",
      "source": [
        "fp_th_pd[\"Threshold\"] = pd.to_numeric(fp_th_pd[\"Threshold\"])\n",
        "fp_th_pd[\"Time Elapsed(seconds)\"] = pd.to_numeric(fp_th_pd[\"Time Elapsed(seconds)\"])"
      ],
      "metadata": {
        "id": "gAYKSacvTgrn"
      },
      "execution_count": null,
      "outputs": []
    },
    {
      "cell_type": "code",
      "source": [
        "%matplotlib inline\n",
        "import matplotlib.pyplot as plt\n",
        "plt.rcParams[\"figure.figsize\"] = [10,6]\n",
        "\n",
        "fig = plt.figure()\n",
        "plt.plot(fp_frac_pd[\"Fraction\"],np.round(fp_frac_pd[\"Time Elapsed(seconds)\"]))\n",
        "fig.suptitle('Min. Support vs Time elapsed in seconds')\n",
        "plt.xlabel('Fraction of the Dataset')\n",
        "plt.ylabel('Seconds')"
      ],
      "metadata": {
        "id": "HBbu1AanTiSx",
        "colab": {
          "base_uri": "https://localhost:8080/",
          "height": 449
        },
        "outputId": "2fcea226-7962-4ff6-e8cf-5ec93047cce4"
      },
      "execution_count": null,
      "outputs": [
        {
          "output_type": "execute_result",
          "data": {
            "text/plain": [
              "Text(0, 0.5, 'Seconds')"
            ]
          },
          "metadata": {},
          "execution_count": 32
        },
        {
          "output_type": "display_data",
          "data": {
            "text/plain": [
              "<Figure size 720x432 with 1 Axes>"
            ],
            "image/png": "[encoded data removed]"
          },
          "metadata": {
            "needs_background": "light"
          }
        }
      ]
    },
    {
      "cell_type": "code",
      "source": [
        "%matplotlib inline\n",
        "import matplotlib.pyplot as plt\n",
        "plt.rcParams[\"figure.figsize\"] = [10,6]\n",
        "\n",
        "fig = plt.figure()\n",
        "plt.plot(fp_th_pd[\"Threshold\"],fp_th_pd[\"Time Elapsed(seconds)\"])\n",
        "fig.suptitle('Min. Support vs Time elapsed in seconds')\n",
        "plt.xlabel('Minimum Support')\n",
        "plt.ylabel('Seconds')"
      ],
      "metadata": {
        "id": "K9xOSa0kTkAX",
        "colab": {
          "base_uri": "https://localhost:8080/",
          "height": 449
        },
        "outputId": "0351f017-062b-461c-bf55-395afc18a0c4"
      },
      "execution_count": null,
      "outputs": [
        {
          "output_type": "execute_result",
          "data": {
            "text/plain": [
              "Text(0, 0.5, 'Seconds')"
            ]
          },
          "metadata": {},
          "execution_count": 33
        },
        {
          "output_type": "display_data",
          "data": {
            "text/plain": [
              "<Figure size 720x432 with 1 Axes>"
            ],
            "image/png": "[encoded data removed]"
          },
          "metadata": {
            "needs_background": "light"
          }
        }
      ]
    }
  ]
}